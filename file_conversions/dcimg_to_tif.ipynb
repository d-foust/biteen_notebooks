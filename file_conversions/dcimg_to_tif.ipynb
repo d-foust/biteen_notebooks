{
 "cells": [
  {
   "cell_type": "code",
   "execution_count": 1,
   "metadata": {},
   "outputs": [],
   "source": [
    "from glob import glob\n",
    "from os.path import join\n",
    "from pathlib import Path\n",
    "\n",
    "from dcimg import DCIMGFile\n",
    "import tifffile"
   ]
  },
  {
   "cell_type": "code",
   "execution_count": 2,
   "metadata": {},
   "outputs": [
    {
     "name": "stderr",
     "output_type": "stream",
     "text": [
      "c:\\Users\\djfoust\\Anaconda3\\envs\\napari-env\\lib\\site-packages\\dcimg.py:365: RuntimeWarning: divide by zero encountered in floor_divide\n",
      "  self._target_line = (1023 - self.y0) // self.binning\n"
     ]
    },
    {
     "name": "stdout",
     "output_type": "stream",
     "text": [
      "fov001 tab_00001\n",
      "fov002 tab_00001\n",
      "fov003 tab_00001\n",
      "fov004 tab_00001\n",
      "fov001 tab_00001\n",
      "fov002 tab_00001\n",
      "fov001 tab_00001\n",
      "fov002 tab_00001\n",
      "fov003 tab_00001\n",
      "fov004 tab_00001\n",
      "fov001 tab_00001\n",
      "fov001 tab_00002\n",
      "fov002 tab_00001\n",
      "fov003 tab_00001\n",
      "fov004 tab_00001\n",
      "fov005 tab_00001\n",
      "fov006 tab_00001\n",
      "fov007 tab_00001\n",
      "fov008 tab_00001\n",
      "fov009 tab_00001\n",
      "fov010 tab_00001\n",
      "fov011 tab_00001\n",
      "fov001 tab_00001\n",
      "fov002 tab_00001\n",
      "fov003 tab_00001\n",
      "fov001 tab_00001\n",
      "fov002 tab_00001\n",
      "fov003 tab_00001\n",
      "fov001 tab_00001\n",
      "fov002 tab_00001\n",
      "fov003 tab_00001\n",
      "fov004 tab_00001\n",
      "fov005 tab_00001\n",
      "fov006 tab_00001\n",
      "fov007 tab_00001\n"
     ]
    }
   ],
   "source": [
    "data_folders = [\n",
    "    r\"T:\\MIGRATED\\Lab_Members\\Zeyang_Hu\\DATA\\24_11_12_Aggregates 4h with 50M nile blue Ar no PLL\\0.5X_CsgAcc_2Percent BME\",\n",
    "    r\"T:\\MIGRATED\\Lab_Members\\Zeyang_Hu\\DATA\\24_11_12_Aggregates 4h with 50M nile blue Ar no PLL\\CsgAcc_0Percent BME\",\n",
    "    r\"T:\\MIGRATED\\Lab_Members\\Zeyang_Hu\\DATA\\24_11_12_Aggregates 4h with 50M nile blue Ar no PLL\\CsgAcc_2Percent BME\",\n",
    "    r\"T:\\MIGRATED\\Lab_Members\\Zeyang_Hu\\DATA\\24_11_12_Aggregates 8h with 50nM nile blue Ar\",\n",
    "    r\"T:\\MIGRATED\\Lab_Members\\Zeyang_Hu\\DATA\\24_11_13_Aggregates 1h with 50nM nile blue\\25percent diluted CsgAcc with 2 percent BME\",\n",
    "    r\"T:\\MIGRATED\\Lab_Members\\Zeyang_Hu\\DATA\\24_11_13_Aggregates 1h with 50nM nile blue\\Only Nile blue with MQ water\",\n",
    "    r\"T:\\MIGRATED\\Lab_Members\\Zeyang_Hu\\DATA\\24_11_13_Aggregates overnight 50M nile blue\\0.5xCsgAcc 2percent BME\"\n",
    "    ]\n",
    "\n",
    "save_folders = data_folders # save in original folder\n",
    "\n",
    "pattern = r\"*.dcimg\"\n",
    "\n",
    "for (data_folder, save_folder) in zip(data_folders, save_folders):\n",
    "    files = glob(join(data_folder, pattern))\n",
    "\n",
    "    for file in files:\n",
    "        dcimgfile = DCIMGFile(file)\n",
    "        dcimgfile_stem = Path(file).stem\n",
    "        print(dcimgfile_stem)\n",
    "        tifffile.imwrite(\n",
    "            join(save_folder, dcimgfile_stem + \".tif\"), \n",
    "            data=dcimgfile[:],\n",
    "            )"
   ]
  }
 ],
 "metadata": {
  "kernelspec": {
   "display_name": "napari-env",
   "language": "python",
   "name": "python3"
  },
  "language_info": {
   "codemirror_mode": {
    "name": "ipython",
    "version": 3
   },
   "file_extension": ".py",
   "mimetype": "text/x-python",
   "name": "python",
   "nbconvert_exporter": "python",
   "pygments_lexer": "ipython3",
   "version": "3.9.18"
  }
 },
 "nbformat": 4,
 "nbformat_minor": 2
}
