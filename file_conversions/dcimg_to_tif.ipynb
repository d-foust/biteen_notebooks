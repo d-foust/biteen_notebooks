{
 "cells": [
  {
   "cell_type": "code",
   "execution_count": 1,
   "metadata": {},
   "outputs": [],
   "source": [
    "from glob import glob\n",
    "from os.path import join\n",
    "from pathlib import Path\n",
    "\n",
    "from dcimg import DCIMGFile\n",
    "import tifffile"
   ]
  },
  {
   "cell_type": "code",
   "execution_count": null,
   "metadata": {},
   "outputs": [],
   "source": [
    "data_folders = [\n",
    "    r\"T:\\MIGRATED\\Lab_Members\\Daniel_Foust\\Data\\Curli\\2024-12-13 CsgA_cc 1% BME weeks old\\500nM Nile blue\",\n",
    "    r\"T:\\MIGRATED\\Lab_Members\\Daniel_Foust\\Data\\Curli\\2024-12-13 CsgA_cc 1% BME weeks old\\50nM Nile blue\",\n",
    "    r\"T:\\MIGRATED\\Lab_Members\\Daniel_Foust\\Data\\Curli\\2024-12-13 CsgA_cc 1% BME weeks old\\10nM Nile blue\",\n",
    "    ]\n",
    "\n",
    "save_folders = data_folders # save in original folder\n",
    "\n",
    "pattern = r\"*.dcimg\"\n",
    "\n",
    "for (data_folder, save_folder) in zip(data_folders, save_folders):\n",
    "    files = glob(join(data_folder, pattern))\n",
    "\n",
    "    for file in files:\n",
    "        dcimgfile = DCIMGFile(file)\n",
    "        dcimgfile_stem = Path(file).stem\n",
    "        print(dcimgfile_stem)\n",
    "        tifffile.imwrite(\n",
    "            join(save_folder, dcimgfile_stem + \".tif\"), \n",
    "            data=dcimgfile[:],\n",
    "            )"
   ]
  }
 ],
 "metadata": {
  "kernelspec": {
   "display_name": "napari-env",
   "language": "python",
   "name": "python3"
  },
  "language_info": {
   "codemirror_mode": {
    "name": "ipython",
    "version": 3
   },
   "file_extension": ".py",
   "mimetype": "text/x-python",
   "name": "python",
   "nbconvert_exporter": "python",
   "pygments_lexer": "ipython3",
   "version": "3.9.18"
  }
 },
 "nbformat": 4,
 "nbformat_minor": 2
}
