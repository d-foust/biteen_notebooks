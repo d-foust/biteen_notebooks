{
 "cells": [
  {
   "cell_type": "markdown",
   "metadata": {},
   "source": [
    "# Plotting trajectories with colors determined by D_app from State Array analysis of Single Particle Tracks (saspt)"
   ]
  },
  {
   "cell_type": "markdown",
   "metadata": {},
   "source": [
    "## Imports"
   ]
  },
  {
   "cell_type": "code",
   "execution_count": 1,
   "metadata": {},
   "outputs": [],
   "source": [
    "# these ones should be part of Anaconda installation\n",
    "import os\n",
    "from os.path import join\n",
    "from pathlib import Path\n",
    "\n",
    "import matplotlib.pyplot as plt\n",
    "import numpy as np\n",
    "import pandas as pd\n",
    "from scipy.io import loadmat\n",
    "import tifffile\n",
    "\n",
    "import biteen_utilities as bu"
   ]
  },
  {
   "cell_type": "markdown",
   "metadata": {},
   "source": [
    "## Where is data coming from?"
   ]
  },
  {
   "cell_type": "code",
   "execution_count": 2,
   "metadata": {},
   "outputs": [],
   "source": [
    "locs_fname = r\"T:\\MIGRATED\\Lab_Members\\Daniel_Foust\\Data\\State Arrays\\Lauren\\230213_cwx2695_2_5hr_001_AccBGSUB_fits_sa.csv\"\n",
    "# image_fname = r # for phase image or other\n",
    "masks_fname = r\"T:\\MIGRATED\\Lab_Members\\Daniel_Foust\\Data\\State Arrays\\Lauren\\230213_cwx2695_2_5hr_001_PhaseMask.mat\"\n",
    "\n",
    "save_fname = join(os.getcwd(), f\"{Path(locs_fname).stem}_trajectories.png\")\n",
    "save_folder = Path(save_fname).parent\n",
    "os.makedirs(save_folder, exist_ok=True)"
   ]
  },
  {
   "cell_type": "markdown",
   "metadata": {},
   "source": [
    "## Parameters"
   ]
  },
  {
   "cell_type": "code",
   "execution_count": 8,
   "metadata": {},
   "outputs": [],
   "source": [
    "# experiment parameters\n",
    "pixel_size_um = 0.049\n",
    "\n",
    "# filtering tracks by number of localizations\n",
    "min_locs = -np.inf\n",
    "max_locs = np.inf\n",
    "\n",
    "# how to find data\n",
    "coord_cols = ('col-1', 'row-1')\n",
    "track_col = 'track_id_unique' # for locs_df?\n",
    "color_col = 'Dapp' # for track_data?\n",
    "\n",
    "# where to divide for different colors\n",
    "track_data_bins = np.array([\n",
    "    [-np.inf, 0.05],\n",
    "    [0.05, np.inf]\n",
    "])\n",
    "\n",
    "# hot to plot\n",
    "track_data_colors = ('xkcd:bright cyan', 'xkcd:hot magenta')\n",
    "order = 'reverse'\n",
    "\n",
    "num_tracks_to_plot = 10\n",
    "\n",
    "separate = False\n",
    "subsample = None # set to integer to randomly plot subset of trajectories\n",
    "crop = False # if True, will crop to area immediately surrounding rois\n",
    "\n",
    "figure_props = {} # for changing figsize, for example\n",
    "\n",
    "line_props = {'alpha': 1} # trajectory lines\n",
    "\n",
    "outline_props = { # outlines of masked regions\n",
    "    'lw': 1\n",
    "}\n",
    "outline_smooth_factor = 0.5\n",
    "\n",
    "scalebar_props = {\n",
    "    'dx': pixel_size_um,\n",
    "    'units': 'um',\n",
    "    'fixed_value': 2,\n",
    "    'scale_loc': 'none',\n",
    "    'location': 'lower right',\n",
    "    'frameon': False,\n",
    "    'color': 'xkcd:white'\n",
    "}"
   ]
  },
  {
   "cell_type": "markdown",
   "metadata": {},
   "source": [
    "## Preparing data"
   ]
  },
  {
   "cell_type": "markdown",
   "metadata": {},
   "source": [
    "### Read data"
   ]
  },
  {
   "cell_type": "code",
   "execution_count": 9,
   "metadata": {},
   "outputs": [],
   "source": [
    "locs_df = pd.read_csv(locs_fname, index_col=0)\n",
    "# image = tifffile.imread(image_fname)\n",
    "masks = loadmat(masks_fname)['PhaseMask']"
   ]
  },
  {
   "cell_type": "markdown",
   "metadata": {},
   "source": [
    "### Preparing data"
   ]
  },
  {
   "cell_type": "code",
   "execution_count": 10,
   "metadata": {},
   "outputs": [],
   "source": [
    "# filter by track length\n",
    "locs_df = bu.filter_by_nlocs(locs_df, min_locs=min_locs, max_locs=max_locs)\n",
    "locs_df = locs_df.drop(columns=['level_0'])\n",
    "\n",
    "# convert matlab to python indexing\n",
    "locs_df['col-1'] = locs_df['col'] - 1\n",
    "locs_df['row-1'] = locs_df['row'] - 1\n",
    "\n",
    "# remove localizations not used in state array calculation\n",
    "locs_df = locs_df[~np.isnan(locs_df['track_id_SA'])]\n",
    "\n",
    "# compute track-level data\n",
    "track_data = pd.DataFrame(\n",
    "    data = {'track_id_unique': locs_df['track_id_unique'].unique(),\n",
    "            'Dapp': [locs_df[locs_df['track_id_unique']==track_id]['D_av'].mean() for track_id in locs_df['track_id_unique'].unique()]}\n",
    ")"
   ]
  },
  {
   "cell_type": "markdown",
   "metadata": {},
   "source": [
    "## Plotting"
   ]
  },
  {
   "cell_type": "code",
   "execution_count": null,
   "metadata": {},
   "outputs": [],
   "source": [
    "fig, ax = bu.plot_tracks(\n",
    "    locs_df,\n",
    "    track_data = track_data,\n",
    "    coord_cols = coord_cols,\n",
    "    track_col = track_col,\n",
    "    color_col = color_col,\n",
    "    track_data_bins = track_data_bins,\n",
    "    track_data_colors = track_data_colors,\n",
    "    order = order,\n",
    "    scale = 1, # units are already pixels\n",
    "    labels = masks,\n",
    "    # image = None, \n",
    "    subsample = subsample,\n",
    "    line_props = line_props,\n",
    "    separate = separate,\n",
    "    crop = crop,\n",
    "    figure_props = figure_props,\n",
    "    scalebar_props = scalebar_props,\n",
    "    outline_props = outline_props,\n",
    "    outline_smooth_factor = outline_smooth_factor\n",
    "    )"
   ]
  },
  {
   "cell_type": "markdown",
   "metadata": {},
   "source": [
    "## Saving"
   ]
  },
  {
   "cell_type": "code",
   "execution_count": null,
   "metadata": {},
   "outputs": [],
   "source": [
    "fig.savefig(save_fname,\n",
    "            transparent=True,\n",
    "            bbox_inches='tight',\n",
    "            dpi=300)\n",
    "print(f\"Figure saved as {save_fname}.\")"
   ]
  }
 ],
 "metadata": {
  "kernelspec": {
   "display_name": "saspt_env",
   "language": "python",
   "name": "python3"
  },
  "language_info": {
   "codemirror_mode": {
    "name": "ipython",
    "version": 3
   },
   "file_extension": ".py",
   "mimetype": "text/x-python",
   "name": "python",
   "nbconvert_exporter": "python",
   "pygments_lexer": "ipython3",
   "version": "3.9.18"
  }
 },
 "nbformat": 4,
 "nbformat_minor": 2
}
