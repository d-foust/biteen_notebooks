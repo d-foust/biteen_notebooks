{
 "cells": [
  {
   "cell_type": "markdown",
   "metadata": {},
   "source": [
    "# Converting nd2 files to .mat files readable by SMALL-LABS with 2x downsampling\n",
    "For reading nd2 files collected with 40-ms integration time, for example, summing consecutive frames, and saving as .mat files, so that the effective integration time is doubled (~80 ms).\n",
    "* working with hdf5storage 0.1.16 with Python 3.8.20\n",
    "* environment called \"smalllabs_mat\" on Dan's desktop"
   ]
  },
  {
   "cell_type": "markdown",
   "metadata": {},
   "source": [
    "## imports"
   ]
  },
  {
   "cell_type": "code",
   "execution_count": null,
   "metadata": {},
   "outputs": [],
   "source": [
    "from glob import glob\n",
    "import os\n",
    "from os.path import join\n",
    "from pathlib import Path\n",
    "import shutil\n",
    "\n",
    "import hdf5storage # version that works with SMALL-LABS is 0.1.16\n",
    "import nd2\n",
    "import numpy as np"
   ]
  },
  {
   "cell_type": "markdown",
   "metadata": {},
   "source": [
    "## converting movies to .mat files"
   ]
  },
  {
   "cell_type": "code",
   "execution_count": 2,
   "metadata": {},
   "outputs": [],
   "source": [
    "movie_folders = [\n",
    "    r'T:\\MIGRATED\\Lab_Members\\Lexie_Moran\\Data\\202410\\Wt Swi6 movies',\n",
    "]\n",
    "\n",
    "downsampled_folders = [\n",
    "    r'T:\\MIGRATED\\Lab_Members\\Lexie_Moran\\Data\\202410\\Wt Swi6 movies\\2x downsample (80-ms)',\n",
    "]\n",
    "\n",
    "movie_pattern = '*.nd2'\n",
    "downsample_appendix = '_80ms' # added to end of original movie name\n",
    "\n",
    "for movie_folder, downsampled_folder in zip(movie_folders, downsampled_folders):\n",
    "    movie_files = glob(join(movie_folder, movie_pattern))\n",
    "    os.makedirs(downsampled_folder, exist_ok=True)\n",
    "\n",
    "    for movie_file in movie_files:\n",
    "\n",
    "        movie = nd2.imread(movie_file)\n",
    "\n",
    "        num_frames_downsampled = movie.shape[0] // 2\n",
    "        movie_downsampled = movie[0:num_frames_downsampled*2:2] + movie[1::2]\n",
    "\n",
    "        movie_stem = Path(movie_file).stem\n",
    "        \n",
    "        data_dict = {}\n",
    "        data_dict['mov'] = np.moveaxis(movie_downsampled,\n",
    "                                       source = [0, 1, 2],\n",
    "                                       destination = [2, 0, 1])\n",
    "\n",
    "        hdf5storage.savemat(file_name = join(downsampled_folder, f\"{movie_stem}{downsample_appendix}.mat\"),\n",
    "                            mdict = data_dict,\n",
    "                            format = '7.3')"
   ]
  },
  {
   "cell_type": "markdown",
   "metadata": {},
   "source": [
    "## copying over corresponding mask files"
   ]
  },
  {
   "cell_type": "code",
   "execution_count": 3,
   "metadata": {},
   "outputs": [],
   "source": [
    "mask_folders = [\n",
    "    r\"T:\\MIGRATED\\Lab_Members\\Lexie_Moran\\Data\\202410\\241017_Swi6_wt_reps_1_2\",\n",
    "    r\"T:\\MIGRATED\\Lab_Members\\Lexie_Moran\\Data\\202410\\241021_Swi6_wt_reps_3_4\",\n",
    "    r\"T:\\MIGRATED\\Lab_Members\\Lexie_Moran\\Data\\202410\\241023_Swi6_wt_rep_5\"\n",
    "]\n",
    "\n",
    "downsampled_folders = [\n",
    "    r'T:\\MIGRATED\\Lab_Members\\Lexie_Moran\\Data\\202410\\Wt Swi6 movies\\2x downsample (80-ms)',\n",
    "    r'T:\\MIGRATED\\Lab_Members\\Lexie_Moran\\Data\\202410\\Wt Swi6 movies\\2x downsample (80-ms)',\n",
    "    r'T:\\MIGRATED\\Lab_Members\\Lexie_Moran\\Data\\202410\\Wt Swi6 movies\\2x downsample (80-ms)',\n",
    "]\n",
    "\n",
    "mask_pattern = \"*_PhaseMask.mat\"\n",
    "downsample_appendix = '_80ms'\n",
    "\n",
    "for mask_folder, downsampled_folder in zip(mask_folders, downsampled_folders):\n",
    "    mask_files = glob(join(mask_folder, mask_pattern))\n",
    "    os.makedirs(downsampled_folder, exist_ok=True)\n",
    "\n",
    "    for mask_file in mask_files:\n",
    "        mask_stem = Path(mask_file).stem\n",
    "        insert_position = mask_stem.find(\"_PhaseMask\")\n",
    "        if insert_position != -1:\n",
    "            downsampled_mask_stem = mask_stem[:insert_position] + downsample_appendix + mask_stem[insert_position:]\n",
    "        destintation_file_name = join(downsampled_folder, f\"{downsampled_mask_stem}.mat\")\n",
    "        shutil.copy(mask_file, destintation_file_name)"
   ]
  }
 ],
 "metadata": {
  "kernelspec": {
   "display_name": "smalllabs_mat",
   "language": "python",
   "name": "python3"
  },
  "language_info": {
   "codemirror_mode": {
    "name": "ipython",
    "version": 3
   },
   "file_extension": ".py",
   "mimetype": "text/x-python",
   "name": "python",
   "nbconvert_exporter": "python",
   "pygments_lexer": "ipython3",
   "version": "3.8.20"
  }
 },
 "nbformat": 4,
 "nbformat_minor": 2
}
