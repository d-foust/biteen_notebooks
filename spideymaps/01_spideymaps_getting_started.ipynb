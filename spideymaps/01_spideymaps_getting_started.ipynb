{
 "cells": [
  {
   "cell_type": "markdown",
   "metadata": {},
   "source": [
    "# Spideymaps: getting started\n",
    "Author: Daniel Foust  \n",
    "Last update: 2024-11-11"
   ]
  },
  {
   "cell_type": "markdown",
   "metadata": {},
   "source": [
    "## Imports"
   ]
  },
  {
   "cell_type": "code",
   "execution_count": 7,
   "metadata": {},
   "outputs": [],
   "source": [
    "import numpy as np\n",
    "\n",
    "import spideymaps as sm"
   ]
  },
  {
   "cell_type": "markdown",
   "metadata": {},
   "source": [
    "## Reading data"
   ]
  },
  {
   "cell_type": "code",
   "execution_count": 3,
   "metadata": {},
   "outputs": [],
   "source": [
    "labels_sl, locs_csv = sm.read_map_data(\n",
    "    labels_folders=[r\"T:\\MIGRATED\\Lab_Members\\Daniel_Foust\\Data\\Spideymaps\\cwx2695_LAM\"],\n",
    "    locs_folders=[r\"T:\\MIGRATED\\Lab_Members\\Daniel_Foust\\Data\\Spideymaps\\cwx2695_LAM\"],\n",
    "    labels_pattern=\"_PhaseMask.mat\",\n",
    "    locs_pattern=\"_AccBGSUB_fits_fits.csv\",\n",
    "    labels_format=\"smalllabs\", # alternative \"cellpose\"\n",
    "    locs_format=\"csv\", # alternative \"smalllabs\"\n",
    "    pixel_size=1, # for conversion if units are not pixels\n",
    "    coord_cols=[\"row\", \"col\"] # if using csv, specify which columns contain coordinates\n",
    ")\n",
    "# labels_list : list of 2d integer arrays\n",
    "# locs_list : list of pandas DataFrames\n",
    "\n",
    "# conversion from Matlab coordinates to Python\n",
    "for locs in locs_csv:\n",
    "    locs.loc[:,'row-1'] = locs.loc[:,'row'] - 1\n",
    "    locs.loc[:,'col-1'] = locs.loc[:,'col'] - 1"
   ]
  },
  {
   "cell_type": "markdown",
   "metadata": {},
   "source": [
    "## Calculate maps for individual cells"
   ]
  },
  {
   "cell_type": "code",
   "execution_count": 24,
   "metadata": {},
   "outputs": [],
   "source": [
    "grid_params = dict(radius=10, \n",
    "                   n_shells=3, \n",
    "                   n_cols=8, \n",
    "                   n_phi=(1, 3, 4))\n",
    "pixel_size = 0.049 # um\n",
    "\n",
    "maps = []\n",
    "\n",
    "for labels, locs in zip(labels_sl, locs_csv):\n",
    "    n_cells = labels.max()\n",
    "    # for c in range(1, n_cells+1):\n",
    "    for c in np.unique(labels)[1:]:\n",
    "        label = labels == c\n",
    "        locs_cell = locs[locs['roinum']==c]\n",
    "        map = sm.Spideymap(bimage=label, coords=locs_cell, xcol='col-1', ycol='row-1')\n",
    "        try:\n",
    "            map.make_grid(**grid_params)\n",
    "            map.count(xcol='col-1', ycol='row-1')\n",
    "            map.get_colicoords()\n",
    "            map.coords['cell_length'] = map.mid.length\n",
    "            maps.append(map)\n",
    "        except:\n",
    "            continue"
   ]
  },
  {
   "cell_type": "markdown",
   "metadata": {},
   "source": [
    "## Aggregate into atlas"
   ]
  },
  {
   "cell_type": "code",
   "execution_count": 15,
   "metadata": {},
   "outputs": [],
   "source": [
    "atlas = sm.SpideyAtlas(maps)"
   ]
  },
  {
   "cell_type": "markdown",
   "metadata": {},
   "source": [
    "## Create representative grid"
   ]
  },
  {
   "cell_type": "code",
   "execution_count": 16,
   "metadata": {},
   "outputs": [],
   "source": [
    "atlas.create_rep_grid(\n",
    "    grid_params=grid_params,\n",
    "    # cc_params=DEFAULT_CC_PARAMS,\n",
    "    min_length=0,\n",
    "    max_length=np.inf)"
   ]
  },
  {
   "cell_type": "markdown",
   "metadata": {},
   "source": [
    "## Add counts and areas, and symmetrify"
   ]
  },
  {
   "cell_type": "code",
   "execution_count": 17,
   "metadata": {},
   "outputs": [
    {
     "name": "stderr",
     "output_type": "stream",
     "text": [
      "c:\\Users\\djfoust\\Anaconda3\\envs\\spideymaps_3\\Lib\\site-packages\\spideymaps\\spidey_atlas.py:453: FutureWarning: A value is trying to be set on a copy of a DataFrame or Series through chained assignment using an inplace method.\n",
      "The behavior will change in pandas 3.0. This inplace method will never work because the intermediate object on which we are setting values always behaves as a copy.\n",
      "\n",
      "For example, when doing 'df[col].method(value, inplace=True)', try using 'df.method({col: value}, inplace=True)' or df[col] = df[col].method(value) instead, to perform the operation inplace on the original object.\n",
      "\n",
      "\n",
      "  self.data[sumcol_name].fillna(0, inplace=True)\n"
     ]
    }
   ],
   "source": [
    "atlas.sum_coords(sumcol_name='count')\n",
    "atlas.sum_maps(map_data_col='area')\n",
    "\n",
    "atlas.add_symmetric_elements(col_name='count', \n",
    "                             symcol_name='count_quadsym', \n",
    "                             style='quad')\n",
    "atlas.add_symmetric_elements(col_name='area', \n",
    "                             symcol_name='area_quadsym', \n",
    "                             style='quad')"
   ]
  },
  {
   "cell_type": "markdown",
   "metadata": {},
   "source": [
    "## Calculate density (counts / pixels^2)"
   ]
  },
  {
   "cell_type": "code",
   "execution_count": 18,
   "metadata": {},
   "outputs": [],
   "source": [
    "atlas.data['density_quadsym'] = atlas.data['count_quadsym'] / atlas.data['area_quadsym']"
   ]
  },
  {
   "cell_type": "markdown",
   "metadata": {},
   "source": [
    "## Plot map"
   ]
  },
  {
   "cell_type": "code",
   "execution_count": 19,
   "metadata": {},
   "outputs": [
    {
     "data": {
      "image/png": "[encoded data removed]",
      "text/plain": [
       "<Figure size 1000x500 with 2 Axes>"
      ]
     },
     "metadata": {},
     "output_type": "display_data"
    }
   ],
   "source": [
    "fig, ax = sm.render_map(\n",
    "    atlas.rep_grid, \n",
    "    atlas.data['density_quadsym'].to_dict(),\n",
    "    # vmin=vmin, \n",
    "    # vmax=vmax, \n",
    "    cmap='plasma',\n",
    "    pixel_size=pixel_size)"
   ]
  }
 ],
 "metadata": {
  "kernelspec": {
   "display_name": "spideymaps_3",
   "language": "python",
   "name": "python3"
  },
  "language_info": {
   "codemirror_mode": {
    "name": "ipython",
    "version": 3
   },
   "file_extension": ".py",
   "mimetype": "text/x-python",
   "name": "python",
   "nbconvert_exporter": "python",
   "pygments_lexer": "ipython3",
   "version": "3.12.0"
  }
 },
 "nbformat": 4,
 "nbformat_minor": 2
}
